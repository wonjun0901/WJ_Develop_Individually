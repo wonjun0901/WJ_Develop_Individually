{
 "cells": [
  {
   "cell_type": "markdown",
   "metadata": {},
   "source": [
    "# Mean Normalization\n",
    "\n",
    "머신러닝 및 데이터 분석에서는 데이터 노멀라이징(정규화)을 합니다. \n",
    "정규화는 데이터의 범위를 0과 1로 변환하여 데이터 분포를 조정하는 방법입니다.\n",
    "예를 들어 여러개의 feature가 있는데 어떤거는 100 ~ 200사이의 값이고, 어떤거는 -10 ~ 10 사이의 값이고, 어떤거는 -100 ~ 300 사이의 값이라고 해보면, 이 값들을 분석하기 쉽지가 않습니다. 따라서 이런 불편을 줄이기 위해 범주를 일치시키는 작업을 normalization 이라 합니다. 보통은 0 ~ 1 사이의 값으로 범주를 일치시킵니다.\n",
    "\n"
   ]
  },
  {
   "cell_type": "code",
   "execution_count": 1,
   "metadata": {},
   "outputs": [
    {
     "name": "stdout",
     "output_type": "stream",
     "text": [
      "[[1121 2458 1523 ...  957  654 1106]\n",
      " [4905 2227 4429 ... 2485 1546 3560]\n",
      " [4087  898 4458 ... 3230 1500 1900]\n",
      " ...\n",
      " [4328 3532 3110 ...  157 2342 4360]\n",
      " [ 776 1333 1446 ... 4790  633 3877]\n",
      " [ 570 2984 1354 ... 1575 4681 4397]]\n"
     ]
    }
   ],
   "source": [
    "# import NumPy  \n",
    "import numpy as np\n",
    "\n",
    "# 1000 x 20 ndarray 배열을, 0이상 5001미만(0 ~ 5000) 의 random integers 로 만드세요.\n",
    "X = np.random.randint(0, 5001, 1000*20).reshape((1000,20))\n",
    "\n",
    "# print the shape of X\n",
    "print(X)"
   ]
  },
  {
   "cell_type": "markdown",
   "metadata": {},
   "source": [
    "다음의 mean normalization 식을 이용해서 정규화 하세요.\n",
    "\n",
    "$\\mbox{Norm_Col}_i = \\frac{\\mbox{Col}_i - \\mu_i}{\\sigma_i}$\n",
    "\n",
    "평균과 표준편차를 이용하면, 위의 정규화 식을 사용할 수 있습니다.\n",
    "\n"
   ]
  },
  {
   "cell_type": "code",
   "execution_count": 2,
   "metadata": {},
   "outputs": [],
   "source": [
    "# 열을 고정하고 각 행에 대한 평균, 즉 모든 열별 평균값을 얻어온다.\n",
    "ave_cols = np.average(X, axis=  0  )\n",
    "\n",
    "# 열을 고정하고 각 행에 대한 표준편차, 즉 모든 열별 표준편차값을 얻어온다.\n",
    "std_cols = np.std(X, axis = 0)"
   ]
  },
  {
   "cell_type": "markdown",
   "metadata": {},
   "source": [
    "각 벡터의 shape 을 확인하세요."
   ]
  },
  {
   "cell_type": "code",
   "execution_count": 3,
   "metadata": {},
   "outputs": [
    {
     "name": "stdout",
     "output_type": "stream",
     "text": [
      "(20,)\n",
      "(20,)\n"
     ]
    }
   ],
   "source": [
    "# Print the shape of ave_cols\n",
    "print(ave_cols.shape)\n",
    "\n",
    "# Print the shape of std_cols\n",
    "print(std_cols.shape)"
   ]
  },
  {
   "cell_type": "markdown",
   "metadata": {},
   "source": [
    "위 공식대로 노멀라이제이션 하세요."
   ]
  },
  {
   "cell_type": "code",
   "execution_count": 4,
   "metadata": {},
   "outputs": [],
   "source": [
    "# Mean normalize X\n",
    "X_norm = ( X - ave_cols ) / std_cols"
   ]
  },
  {
   "cell_type": "markdown",
   "metadata": {},
   "source": [
    "제대로 수행했으면 아마 $X_{\\tiny{\\mbox{norm}}}$ 배열은 값들이 0 근처의 값들로 나올겁니다.아래를 통해 확인하세요."
   ]
  },
  {
   "cell_type": "code",
   "execution_count": 6,
   "metadata": {},
   "outputs": [
    {
     "name": "stdout",
     "output_type": "stream",
     "text": [
      "[[-0.99016482 -0.02886908 -0.65971409 ... -1.13030716 -1.26258241\n",
      "  -1.01466941]\n",
      " [ 1.63472881 -0.18637772  1.35546775 ... -0.0533583  -0.6443303\n",
      "   0.69131513]\n",
      " [ 1.06729673 -1.09256377  1.37557796 ...  0.47172474 -0.67621325\n",
      "  -0.46269235]\n",
      " ...\n",
      " [ 1.23447416  0.7034438   0.44079988 ... -1.69415473 -0.09261652\n",
      "   1.24746331]\n",
      " [-1.22948519 -0.7959566  -0.71311016 ...  1.5712275  -1.27713768\n",
      "   0.91168885]\n",
      " [-1.37238374  0.32978695 -0.77690808 ... -0.69473491  1.52856251\n",
      "   1.27318516]]\n",
      "[-1.76708894 -1.70418821 -1.71515344 -1.71769139 -1.75787398 -1.68809565\n",
      " -1.74521086 -1.74613423 -1.72519437 -1.68095169 -1.79012952 -1.70947029\n",
      " -1.75337379 -1.72107782 -1.70207565 -1.60193149 -1.74389514 -1.80269538\n",
      " -1.71518178 -1.7821539 ]\n"
     ]
    },
    {
     "ename": "AttributeError",
     "evalue": "module 'numpy' has no attribute 'nax'",
     "output_type": "error",
     "traceback": [
      "\u001b[1;31m---------------------------------------------------------------------------\u001b[0m",
      "\u001b[1;31mAttributeError\u001b[0m                            Traceback (most recent call last)",
      "\u001b[1;32m<ipython-input-6-9dd81aeed592>\u001b[0m in \u001b[0;36m<module>\u001b[1;34m\u001b[0m\n\u001b[0;32m      6\u001b[0m \u001b[1;33m\u001b[0m\u001b[0m\n\u001b[0;32m      7\u001b[0m \u001b[1;31m# 각 컬럼(열)별 maximum value 를 출력하세요.\u001b[0m\u001b[1;33m\u001b[0m\u001b[1;33m\u001b[0m\u001b[1;33m\u001b[0m\u001b[0m\n\u001b[1;32m----> 8\u001b[1;33m \u001b[0mprint\u001b[0m\u001b[1;33m(\u001b[0m\u001b[0mnp\u001b[0m\u001b[1;33m.\u001b[0m\u001b[0mnax\u001b[0m\u001b[1;33m(\u001b[0m\u001b[0mX_norm\u001b[0m\u001b[1;33m,\u001b[0m \u001b[0maxis\u001b[0m \u001b[1;33m=\u001b[0m \u001b[1;36m0\u001b[0m\u001b[1;33m)\u001b[0m\u001b[1;33m)\u001b[0m\u001b[1;33m\u001b[0m\u001b[1;33m\u001b[0m\u001b[0m\n\u001b[0m",
      "\u001b[1;31mAttributeError\u001b[0m: module 'numpy' has no attribute 'nax'"
     ]
    }
   ],
   "source": [
    "# X_norm 을 출력(프린트) 하세요.\n",
    "print(X_norm)\n",
    "\n",
    "print()\n",
    "# 각 컬럼(열)별 minimum value 를 출력하세요.\n",
    "print(np.min(X_norm, axis = 0))\n",
    "print()\n",
    "\n",
    "# 각 컬럼(열)별 maximum value 를 출력하세요.\n",
    "print(np.nax(X_norm, axis = 0))"
   ]
  },
  {
   "cell_type": "code",
   "execution_count": null,
   "metadata": {},
   "outputs": [],
   "source": []
  }
 ],
 "metadata": {
  "kernelspec": {
   "display_name": "Python 3",
   "language": "python",
   "name": "python3"
  },
  "language_info": {
   "codemirror_mode": {
    "name": "ipython",
    "version": 3
   },
   "file_extension": ".py",
   "mimetype": "text/x-python",
   "name": "python",
   "nbconvert_exporter": "python",
   "pygments_lexer": "ipython3",
   "version": "3.7.1"
  }
 },
 "nbformat": 4,
 "nbformat_minor": 2
}
