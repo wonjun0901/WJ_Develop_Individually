{
 "cells": [
  {
   "cell_type": "markdown",
   "metadata": {},
   "source": [
    "# <font color='red'> *실습* </font> \n",
    "## <font color='red'> FILES OPERATIONS  </font> "
   ]
  },
  {
   "cell_type": "markdown",
   "metadata": {},
   "source": [
    "#  <font color='blue'>1.fruits_input.txt 파일의 내용을 출력하세요. </font> "
   ]
  },
  {
   "cell_type": "code",
   "execution_count": 1,
   "metadata": {},
   "outputs": [],
   "source": [
    "with open(\"fruits_input.txt\", \"r\") as file:\n",
    "    fruits = file.readlines()"
   ]
  },
  {
   "cell_type": "code",
   "execution_count": 2,
   "metadata": {},
   "outputs": [
    {
     "name": "stdout",
     "output_type": "stream",
     "text": [
      "['Here is the list of fruits:\\n', '\\n', 'Start of List\\n', '\\n', 'Apple\\n', 'Akee\\n', 'Apricot\\n', 'Avocado\\n', 'Banana\\n', 'Bilberry\\n', 'Blackberry\\n', 'Blackcurrant\\n', 'Black sapote\\n', 'Blueberry\\n', 'Boysenberry\\n', \"Buddha's hand (fingered citron)\\n\", 'Crab apples\\n', 'Currant\\n', 'Cherry\\n', 'Cherimoya (Custard Apple)\\n', 'Chico fruit\\n', 'Cloudberry\\n', 'Coconut\\n', 'Cranberry\\n', 'Cucumber\\n', 'Damson\\n', '\\n', '\\n', 'Date\\n', 'Dragonfruit (or Pitaya)\\n', 'Durian\\n', 'Elderberry\\n', 'Feijoa\\n', 'Fig\\n', 'Goji berry\\n', 'Gooseberry\\n', 'Grape\\n', '\\n', '\\n', 'Raisin\\n', 'Grapefruit\\n', 'Guava\\n', 'Honeyberry\\n', 'Huckleberry\\n', 'Jabuticaba\\n', 'Jackfruit\\n', 'Jambul\\n', 'Japanese plum\\n', 'Jostaberry\\n', '\\n', '!\\n', '\\n', 'Jujube\\n', 'Juniper berry\\n', 'Kiwano (horned melon)\\n', 'Kiwifruit\\n', 'Kumquat\\n', '\\n', '%\\n', '\\n', 'Lemon\\n', 'Lime\\n', 'Loquat\\n', 'Longan\\n', 'Lychee\\n', 'Mango\\n', 'Mangosteen\\n', 'Marionberry\\n', 'Melon\\n', 'Cantaloupe\\n', 'Honeydew\\n', 'Watermelon\\n', 'Miracle fruit\\n', 'Mulberry\\n', 'Nectarine\\n', 'Nance\\n', 'Olive\\n', 'Orange\\n', 'Blood orange\\n', 'Clementine\\n', 'Mandarine\\n', 'Tangerine\\n', 'Papaya\\n', 'Passionfruit\\n', 'Peach\\n', 'Pear\\n', 'Persimmon\\n', 'Plantain\\n', 'Plum\\n', 'Prune (dried plum)\\n', 'Pineapple\\n', 'Pineberry\\n', 'Plumcot (or Pluot)\\n', 'Pomegranate\\n', 'Pomelo\\n', 'Purple mangosteen\\n', 'Quince\\n', 'Raspberry\\n', 'Salmonberry\\n', 'Rambutan (or Mamin Chino)\\n', 'Redcurrant\\n', 'Salal berry\\n', 'Salak\\n', 'Satsuma\\n', 'Soursop\\n', 'Star apple\\n', 'Star fruit\\n', 'Strawberry\\n', 'Surinam cherry\\n', 'Tamarillo\\n', 'Tamarind\\n', 'Ugli fruit\\n', 'White currant\\n', 'White sapote\\n', 'Yuzu\\n']\n"
     ]
    }
   ],
   "source": [
    "print(fruits)"
   ]
  },
  {
   "cell_type": "code",
   "execution_count": null,
   "metadata": {},
   "outputs": [],
   "source": []
  },
  {
   "cell_type": "code",
   "execution_count": null,
   "metadata": {},
   "outputs": [],
   "source": []
  },
  {
   "cell_type": "markdown",
   "metadata": {},
   "source": [
    "#  <font color='blue'>2. fruits_input.txt 파일에서, 줄바꿈('\\n') 및 '' 을 다 제거하세요. 그리고 한문자로 되어있는 문장도 모두 제거하세요. 과일이름만 남도록 하여, 새로 fruits_out.txt 에 저장하세요. </font> "
   ]
  },
  {
   "cell_type": "code",
   "execution_count": 9,
   "metadata": {},
   "outputs": [],
   "source": [
    "with open(\"fruits_input.txt\", \"r\") as file:\n",
    "    fruits = file.readlines()"
   ]
  },
  {
   "cell_type": "code",
   "execution_count": null,
   "metadata": {},
   "outputs": [],
   "source": []
  },
  {
   "cell_type": "code",
   "execution_count": 13,
   "metadata": {},
   "outputs": [],
   "source": [
    "data_list = []\n",
    "for char in fruits:\n",
    "    if \"\\n\" in char:\n",
    "        data_list.append(char.strip(\"\\n\"))"
   ]
  },
  {
   "cell_type": "code",
   "execution_count": null,
   "metadata": {},
   "outputs": [],
   "source": [
    "fruits = [ char.strip(\"\\n\") for char in fruits if '\\n' in char  ]"
   ]
  },
  {
   "cell_type": "code",
   "execution_count": 12,
   "metadata": {},
   "outputs": [
    {
     "data": {
      "text/plain": [
       "['Here is the list of fruits:\\n',\n",
       " '\\n',\n",
       " 'Start of List\\n',\n",
       " '\\n',\n",
       " 'Apple\\n',\n",
       " 'Akee\\n',\n",
       " 'Apricot\\n',\n",
       " 'Avocado\\n',\n",
       " 'Banana\\n',\n",
       " 'Bilberry\\n',\n",
       " 'Blackberry\\n',\n",
       " 'Blackcurrant\\n',\n",
       " 'Black sapote\\n',\n",
       " 'Blueberry\\n',\n",
       " 'Boysenberry\\n',\n",
       " \"Buddha's hand (fingered citron)\\n\",\n",
       " 'Crab apples\\n',\n",
       " 'Currant\\n',\n",
       " 'Cherry\\n',\n",
       " 'Cherimoya (Custard Apple)\\n',\n",
       " 'Chico fruit\\n',\n",
       " 'Cloudberry\\n',\n",
       " 'Coconut\\n',\n",
       " 'Cranberry\\n',\n",
       " 'Cucumber\\n',\n",
       " 'Damson\\n',\n",
       " '\\n',\n",
       " '\\n',\n",
       " 'Date\\n',\n",
       " 'Dragonfruit (or Pitaya)\\n',\n",
       " 'Durian\\n',\n",
       " 'Elderberry\\n',\n",
       " 'Feijoa\\n',\n",
       " 'Fig\\n',\n",
       " 'Goji berry\\n',\n",
       " 'Gooseberry\\n',\n",
       " 'Grape\\n',\n",
       " '\\n',\n",
       " '\\n',\n",
       " 'Raisin\\n',\n",
       " 'Grapefruit\\n',\n",
       " 'Guava\\n',\n",
       " 'Honeyberry\\n',\n",
       " 'Huckleberry\\n',\n",
       " 'Jabuticaba\\n',\n",
       " 'Jackfruit\\n',\n",
       " 'Jambul\\n',\n",
       " 'Japanese plum\\n',\n",
       " 'Jostaberry\\n',\n",
       " '\\n',\n",
       " '!\\n',\n",
       " '\\n',\n",
       " 'Jujube\\n',\n",
       " 'Juniper berry\\n',\n",
       " 'Kiwano (horned melon)\\n',\n",
       " 'Kiwifruit\\n',\n",
       " 'Kumquat\\n',\n",
       " '\\n',\n",
       " '%\\n',\n",
       " '\\n',\n",
       " 'Lemon\\n',\n",
       " 'Lime\\n',\n",
       " 'Loquat\\n',\n",
       " 'Longan\\n',\n",
       " 'Lychee\\n',\n",
       " 'Mango\\n',\n",
       " 'Mangosteen\\n',\n",
       " 'Marionberry\\n',\n",
       " 'Melon\\n',\n",
       " 'Cantaloupe\\n',\n",
       " 'Honeydew\\n',\n",
       " 'Watermelon\\n',\n",
       " 'Miracle fruit\\n',\n",
       " 'Mulberry\\n',\n",
       " 'Nectarine\\n',\n",
       " 'Nance\\n',\n",
       " 'Olive\\n',\n",
       " 'Orange\\n',\n",
       " 'Blood orange\\n',\n",
       " 'Clementine\\n',\n",
       " 'Mandarine\\n',\n",
       " 'Tangerine\\n',\n",
       " 'Papaya\\n',\n",
       " 'Passionfruit\\n',\n",
       " 'Peach\\n',\n",
       " 'Pear\\n',\n",
       " 'Persimmon\\n',\n",
       " 'Plantain\\n',\n",
       " 'Plum\\n',\n",
       " 'Prune (dried plum)\\n',\n",
       " 'Pineapple\\n',\n",
       " 'Pineberry\\n',\n",
       " 'Plumcot (or Pluot)\\n',\n",
       " 'Pomegranate\\n',\n",
       " 'Pomelo\\n',\n",
       " 'Purple mangosteen\\n',\n",
       " 'Quince\\n',\n",
       " 'Raspberry\\n',\n",
       " 'Salmonberry\\n',\n",
       " 'Rambutan (or Mamin Chino)\\n',\n",
       " 'Redcurrant\\n',\n",
       " 'Salal berry\\n',\n",
       " 'Salak\\n',\n",
       " 'Satsuma\\n',\n",
       " 'Soursop\\n',\n",
       " 'Star apple\\n',\n",
       " 'Star fruit\\n',\n",
       " 'Strawberry\\n',\n",
       " 'Surinam cherry\\n',\n",
       " 'Tamarillo\\n',\n",
       " 'Tamarind\\n',\n",
       " 'Ugli fruit\\n',\n",
       " 'White currant\\n',\n",
       " 'White sapote\\n',\n",
       " 'Yuzu\\n']"
      ]
     },
     "execution_count": 12,
     "metadata": {},
     "output_type": "execute_result"
    }
   ],
   "source": [
    "fruits"
   ]
  },
  {
   "cell_type": "code",
   "execution_count": 11,
   "metadata": {},
   "outputs": [
    {
     "data": {
      "text/plain": [
       "['Here is the list of fruits:',\n",
       " '',\n",
       " 'Start of List',\n",
       " '',\n",
       " 'Apple',\n",
       " 'Akee',\n",
       " 'Apricot',\n",
       " 'Avocado',\n",
       " 'Banana',\n",
       " 'Bilberry',\n",
       " 'Blackberry',\n",
       " 'Blackcurrant',\n",
       " 'Black sapote',\n",
       " 'Blueberry',\n",
       " 'Boysenberry',\n",
       " \"Buddha's hand (fingered citron)\",\n",
       " 'Crab apples',\n",
       " 'Currant',\n",
       " 'Cherry',\n",
       " 'Cherimoya (Custard Apple)',\n",
       " 'Chico fruit',\n",
       " 'Cloudberry',\n",
       " 'Coconut',\n",
       " 'Cranberry',\n",
       " 'Cucumber',\n",
       " 'Damson',\n",
       " '',\n",
       " '',\n",
       " 'Date',\n",
       " 'Dragonfruit (or Pitaya)',\n",
       " 'Durian',\n",
       " 'Elderberry',\n",
       " 'Feijoa',\n",
       " 'Fig',\n",
       " 'Goji berry',\n",
       " 'Gooseberry',\n",
       " 'Grape',\n",
       " '',\n",
       " '',\n",
       " 'Raisin',\n",
       " 'Grapefruit',\n",
       " 'Guava',\n",
       " 'Honeyberry',\n",
       " 'Huckleberry',\n",
       " 'Jabuticaba',\n",
       " 'Jackfruit',\n",
       " 'Jambul',\n",
       " 'Japanese plum',\n",
       " 'Jostaberry',\n",
       " '',\n",
       " '!',\n",
       " '',\n",
       " 'Jujube',\n",
       " 'Juniper berry',\n",
       " 'Kiwano (horned melon)',\n",
       " 'Kiwifruit',\n",
       " 'Kumquat',\n",
       " '',\n",
       " '%',\n",
       " '',\n",
       " 'Lemon',\n",
       " 'Lime',\n",
       " 'Loquat',\n",
       " 'Longan',\n",
       " 'Lychee',\n",
       " 'Mango',\n",
       " 'Mangosteen',\n",
       " 'Marionberry',\n",
       " 'Melon',\n",
       " 'Cantaloupe',\n",
       " 'Honeydew',\n",
       " 'Watermelon',\n",
       " 'Miracle fruit',\n",
       " 'Mulberry',\n",
       " 'Nectarine',\n",
       " 'Nance',\n",
       " 'Olive',\n",
       " 'Orange',\n",
       " 'Blood orange',\n",
       " 'Clementine',\n",
       " 'Mandarine',\n",
       " 'Tangerine',\n",
       " 'Papaya',\n",
       " 'Passionfruit',\n",
       " 'Peach',\n",
       " 'Pear',\n",
       " 'Persimmon',\n",
       " 'Plantain',\n",
       " 'Plum',\n",
       " 'Prune (dried plum)',\n",
       " 'Pineapple',\n",
       " 'Pineberry',\n",
       " 'Plumcot (or Pluot)',\n",
       " 'Pomegranate',\n",
       " 'Pomelo',\n",
       " 'Purple mangosteen',\n",
       " 'Quince',\n",
       " 'Raspberry',\n",
       " 'Salmonberry',\n",
       " 'Rambutan (or Mamin Chino)',\n",
       " 'Redcurrant',\n",
       " 'Salal berry',\n",
       " 'Salak',\n",
       " 'Satsuma',\n",
       " 'Soursop',\n",
       " 'Star apple',\n",
       " 'Star fruit',\n",
       " 'Strawberry',\n",
       " 'Surinam cherry',\n",
       " 'Tamarillo',\n",
       " 'Tamarind',\n",
       " 'Ugli fruit',\n",
       " 'White currant',\n",
       " 'White sapote',\n",
       " 'Yuzu']"
      ]
     },
     "execution_count": 11,
     "metadata": {},
     "output_type": "execute_result"
    }
   ],
   "source": [
    "data_list"
   ]
  },
  {
   "cell_type": "code",
   "execution_count": 14,
   "metadata": {},
   "outputs": [],
   "source": [
    "fruits = [char for char in data_list if char != '' ]"
   ]
  },
  {
   "cell_type": "code",
   "execution_count": 15,
   "metadata": {},
   "outputs": [
    {
     "data": {
      "text/plain": [
       "['Here is the list of fruits:',\n",
       " 'Start of List',\n",
       " 'Apple',\n",
       " 'Akee',\n",
       " 'Apricot',\n",
       " 'Avocado',\n",
       " 'Banana',\n",
       " 'Bilberry',\n",
       " 'Blackberry',\n",
       " 'Blackcurrant',\n",
       " 'Black sapote',\n",
       " 'Blueberry',\n",
       " 'Boysenberry',\n",
       " \"Buddha's hand (fingered citron)\",\n",
       " 'Crab apples',\n",
       " 'Currant',\n",
       " 'Cherry',\n",
       " 'Cherimoya (Custard Apple)',\n",
       " 'Chico fruit',\n",
       " 'Cloudberry',\n",
       " 'Coconut',\n",
       " 'Cranberry',\n",
       " 'Cucumber',\n",
       " 'Damson',\n",
       " 'Date',\n",
       " 'Dragonfruit (or Pitaya)',\n",
       " 'Durian',\n",
       " 'Elderberry',\n",
       " 'Feijoa',\n",
       " 'Fig',\n",
       " 'Goji berry',\n",
       " 'Gooseberry',\n",
       " 'Grape',\n",
       " 'Raisin',\n",
       " 'Grapefruit',\n",
       " 'Guava',\n",
       " 'Honeyberry',\n",
       " 'Huckleberry',\n",
       " 'Jabuticaba',\n",
       " 'Jackfruit',\n",
       " 'Jambul',\n",
       " 'Japanese plum',\n",
       " 'Jostaberry',\n",
       " '!',\n",
       " 'Jujube',\n",
       " 'Juniper berry',\n",
       " 'Kiwano (horned melon)',\n",
       " 'Kiwifruit',\n",
       " 'Kumquat',\n",
       " '%',\n",
       " 'Lemon',\n",
       " 'Lime',\n",
       " 'Loquat',\n",
       " 'Longan',\n",
       " 'Lychee',\n",
       " 'Mango',\n",
       " 'Mangosteen',\n",
       " 'Marionberry',\n",
       " 'Melon',\n",
       " 'Cantaloupe',\n",
       " 'Honeydew',\n",
       " 'Watermelon',\n",
       " 'Miracle fruit',\n",
       " 'Mulberry',\n",
       " 'Nectarine',\n",
       " 'Nance',\n",
       " 'Olive',\n",
       " 'Orange',\n",
       " 'Blood orange',\n",
       " 'Clementine',\n",
       " 'Mandarine',\n",
       " 'Tangerine',\n",
       " 'Papaya',\n",
       " 'Passionfruit',\n",
       " 'Peach',\n",
       " 'Pear',\n",
       " 'Persimmon',\n",
       " 'Plantain',\n",
       " 'Plum',\n",
       " 'Prune (dried plum)',\n",
       " 'Pineapple',\n",
       " 'Pineberry',\n",
       " 'Plumcot (or Pluot)',\n",
       " 'Pomegranate',\n",
       " 'Pomelo',\n",
       " 'Purple mangosteen',\n",
       " 'Quince',\n",
       " 'Raspberry',\n",
       " 'Salmonberry',\n",
       " 'Rambutan (or Mamin Chino)',\n",
       " 'Redcurrant',\n",
       " 'Salal berry',\n",
       " 'Salak',\n",
       " 'Satsuma',\n",
       " 'Soursop',\n",
       " 'Star apple',\n",
       " 'Star fruit',\n",
       " 'Strawberry',\n",
       " 'Surinam cherry',\n",
       " 'Tamarillo',\n",
       " 'Tamarind',\n",
       " 'Ugli fruit',\n",
       " 'White currant',\n",
       " 'White sapote',\n",
       " 'Yuzu']"
      ]
     },
     "execution_count": 15,
     "metadata": {},
     "output_type": "execute_result"
    }
   ],
   "source": [
    "fruits"
   ]
  },
  {
   "cell_type": "code",
   "execution_count": 17,
   "metadata": {},
   "outputs": [],
   "source": [
    "fruits = [ char for char in fruits if len(char) != 1   ]"
   ]
  },
  {
   "cell_type": "code",
   "execution_count": 18,
   "metadata": {},
   "outputs": [
    {
     "data": {
      "text/plain": [
       "['Here is the list of fruits:',\n",
       " 'Start of List',\n",
       " 'Apple',\n",
       " 'Akee',\n",
       " 'Apricot',\n",
       " 'Avocado',\n",
       " 'Banana',\n",
       " 'Bilberry',\n",
       " 'Blackberry',\n",
       " 'Blackcurrant',\n",
       " 'Black sapote',\n",
       " 'Blueberry',\n",
       " 'Boysenberry',\n",
       " \"Buddha's hand (fingered citron)\",\n",
       " 'Crab apples',\n",
       " 'Currant',\n",
       " 'Cherry',\n",
       " 'Cherimoya (Custard Apple)',\n",
       " 'Chico fruit',\n",
       " 'Cloudberry',\n",
       " 'Coconut',\n",
       " 'Cranberry',\n",
       " 'Cucumber',\n",
       " 'Damson',\n",
       " 'Date',\n",
       " 'Dragonfruit (or Pitaya)',\n",
       " 'Durian',\n",
       " 'Elderberry',\n",
       " 'Feijoa',\n",
       " 'Fig',\n",
       " 'Goji berry',\n",
       " 'Gooseberry',\n",
       " 'Grape',\n",
       " 'Raisin',\n",
       " 'Grapefruit',\n",
       " 'Guava',\n",
       " 'Honeyberry',\n",
       " 'Huckleberry',\n",
       " 'Jabuticaba',\n",
       " 'Jackfruit',\n",
       " 'Jambul',\n",
       " 'Japanese plum',\n",
       " 'Jostaberry',\n",
       " 'Jujube',\n",
       " 'Juniper berry',\n",
       " 'Kiwano (horned melon)',\n",
       " 'Kiwifruit',\n",
       " 'Kumquat',\n",
       " 'Lemon',\n",
       " 'Lime',\n",
       " 'Loquat',\n",
       " 'Longan',\n",
       " 'Lychee',\n",
       " 'Mango',\n",
       " 'Mangosteen',\n",
       " 'Marionberry',\n",
       " 'Melon',\n",
       " 'Cantaloupe',\n",
       " 'Honeydew',\n",
       " 'Watermelon',\n",
       " 'Miracle fruit',\n",
       " 'Mulberry',\n",
       " 'Nectarine',\n",
       " 'Nance',\n",
       " 'Olive',\n",
       " 'Orange',\n",
       " 'Blood orange',\n",
       " 'Clementine',\n",
       " 'Mandarine',\n",
       " 'Tangerine',\n",
       " 'Papaya',\n",
       " 'Passionfruit',\n",
       " 'Peach',\n",
       " 'Pear',\n",
       " 'Persimmon',\n",
       " 'Plantain',\n",
       " 'Plum',\n",
       " 'Prune (dried plum)',\n",
       " 'Pineapple',\n",
       " 'Pineberry',\n",
       " 'Plumcot (or Pluot)',\n",
       " 'Pomegranate',\n",
       " 'Pomelo',\n",
       " 'Purple mangosteen',\n",
       " 'Quince',\n",
       " 'Raspberry',\n",
       " 'Salmonberry',\n",
       " 'Rambutan (or Mamin Chino)',\n",
       " 'Redcurrant',\n",
       " 'Salal berry',\n",
       " 'Salak',\n",
       " 'Satsuma',\n",
       " 'Soursop',\n",
       " 'Star apple',\n",
       " 'Star fruit',\n",
       " 'Strawberry',\n",
       " 'Surinam cherry',\n",
       " 'Tamarillo',\n",
       " 'Tamarind',\n",
       " 'Ugli fruit',\n",
       " 'White currant',\n",
       " 'White sapote',\n",
       " 'Yuzu']"
      ]
     },
     "execution_count": 18,
     "metadata": {},
     "output_type": "execute_result"
    }
   ],
   "source": [
    "fruits"
   ]
  },
  {
   "cell_type": "code",
   "execution_count": null,
   "metadata": {},
   "outputs": [],
   "source": []
  },
  {
   "cell_type": "code",
   "execution_count": null,
   "metadata": {},
   "outputs": [],
   "source": []
  },
  {
   "cell_type": "code",
   "execution_count": null,
   "metadata": {},
   "outputs": [],
   "source": []
  },
  {
   "cell_type": "code",
   "execution_count": null,
   "metadata": {},
   "outputs": [],
   "source": []
  },
  {
   "cell_type": "code",
   "execution_count": null,
   "metadata": {},
   "outputs": [],
   "source": []
  },
  {
   "cell_type": "markdown",
   "metadata": {},
   "source": [
    "#  <font color='blue'>3. fruit_out.txt 에 저장되어 있는 과일과 my_fruits에 있는 과일을 비교하여, my_fruits에 있는 과일이 존재하면, 해당 과일의 이름을 출력하세요.</font> "
   ]
  },
  {
   "cell_type": "code",
   "execution_count": 22,
   "metadata": {},
   "outputs": [],
   "source": [
    "my_fruits = [\"Apple\", \"Pepper\", \"Orange\", \"Watermelon\", \"Tomatoes\"]\n",
    "\n"
   ]
  },
  {
   "cell_type": "code",
   "execution_count": 23,
   "metadata": {},
   "outputs": [],
   "source": [
    "with open(\"fruits_input.txt\", \"r\") as file:\n",
    "    all_fruits = file.readlines()"
   ]
  },
  {
   "cell_type": "code",
   "execution_count": 24,
   "metadata": {},
   "outputs": [
    {
     "data": {
      "text/plain": [
       "['Here is the list of fruits:\\n',\n",
       " '\\n',\n",
       " 'Start of List\\n',\n",
       " '\\n',\n",
       " 'Apple\\n',\n",
       " 'Akee\\n',\n",
       " 'Apricot\\n',\n",
       " 'Avocado\\n',\n",
       " 'Banana\\n',\n",
       " 'Bilberry\\n',\n",
       " 'Blackberry\\n',\n",
       " 'Blackcurrant\\n',\n",
       " 'Black sapote\\n',\n",
       " 'Blueberry\\n',\n",
       " 'Boysenberry\\n',\n",
       " \"Buddha's hand (fingered citron)\\n\",\n",
       " 'Crab apples\\n',\n",
       " 'Currant\\n',\n",
       " 'Cherry\\n',\n",
       " 'Cherimoya (Custard Apple)\\n',\n",
       " 'Chico fruit\\n',\n",
       " 'Cloudberry\\n',\n",
       " 'Coconut\\n',\n",
       " 'Cranberry\\n',\n",
       " 'Cucumber\\n',\n",
       " 'Damson\\n',\n",
       " '\\n',\n",
       " '\\n',\n",
       " 'Date\\n',\n",
       " 'Dragonfruit (or Pitaya)\\n',\n",
       " 'Durian\\n',\n",
       " 'Elderberry\\n',\n",
       " 'Feijoa\\n',\n",
       " 'Fig\\n',\n",
       " 'Goji berry\\n',\n",
       " 'Gooseberry\\n',\n",
       " 'Grape\\n',\n",
       " '\\n',\n",
       " '\\n',\n",
       " 'Raisin\\n',\n",
       " 'Grapefruit\\n',\n",
       " 'Guava\\n',\n",
       " 'Honeyberry\\n',\n",
       " 'Huckleberry\\n',\n",
       " 'Jabuticaba\\n',\n",
       " 'Jackfruit\\n',\n",
       " 'Jambul\\n',\n",
       " 'Japanese plum\\n',\n",
       " 'Jostaberry\\n',\n",
       " '\\n',\n",
       " '!\\n',\n",
       " '\\n',\n",
       " 'Jujube\\n',\n",
       " 'Juniper berry\\n',\n",
       " 'Kiwano (horned melon)\\n',\n",
       " 'Kiwifruit\\n',\n",
       " 'Kumquat\\n',\n",
       " '\\n',\n",
       " '%\\n',\n",
       " '\\n',\n",
       " 'Lemon\\n',\n",
       " 'Lime\\n',\n",
       " 'Loquat\\n',\n",
       " 'Longan\\n',\n",
       " 'Lychee\\n',\n",
       " 'Mango\\n',\n",
       " 'Mangosteen\\n',\n",
       " 'Marionberry\\n',\n",
       " 'Melon\\n',\n",
       " 'Cantaloupe\\n',\n",
       " 'Honeydew\\n',\n",
       " 'Watermelon\\n',\n",
       " 'Miracle fruit\\n',\n",
       " 'Mulberry\\n',\n",
       " 'Nectarine\\n',\n",
       " 'Nance\\n',\n",
       " 'Olive\\n',\n",
       " 'Orange\\n',\n",
       " 'Blood orange\\n',\n",
       " 'Clementine\\n',\n",
       " 'Mandarine\\n',\n",
       " 'Tangerine\\n',\n",
       " 'Papaya\\n',\n",
       " 'Passionfruit\\n',\n",
       " 'Peach\\n',\n",
       " 'Pear\\n',\n",
       " 'Persimmon\\n',\n",
       " 'Plantain\\n',\n",
       " 'Plum\\n',\n",
       " 'Prune (dried plum)\\n',\n",
       " 'Pineapple\\n',\n",
       " 'Pineberry\\n',\n",
       " 'Plumcot (or Pluot)\\n',\n",
       " 'Pomegranate\\n',\n",
       " 'Pomelo\\n',\n",
       " 'Purple mangosteen\\n',\n",
       " 'Quince\\n',\n",
       " 'Raspberry\\n',\n",
       " 'Salmonberry\\n',\n",
       " 'Rambutan (or Mamin Chino)\\n',\n",
       " 'Redcurrant\\n',\n",
       " 'Salal berry\\n',\n",
       " 'Salak\\n',\n",
       " 'Satsuma\\n',\n",
       " 'Soursop\\n',\n",
       " 'Star apple\\n',\n",
       " 'Star fruit\\n',\n",
       " 'Strawberry\\n',\n",
       " 'Surinam cherry\\n',\n",
       " 'Tamarillo\\n',\n",
       " 'Tamarind\\n',\n",
       " 'Ugli fruit\\n',\n",
       " 'White currant\\n',\n",
       " 'White sapote\\n',\n",
       " 'Yuzu\\n']"
      ]
     },
     "execution_count": 24,
     "metadata": {},
     "output_type": "execute_result"
    }
   ],
   "source": [
    "all_fruits"
   ]
  },
  {
   "cell_type": "code",
   "execution_count": 25,
   "metadata": {},
   "outputs": [],
   "source": [
    "all_fruits = [ char.strip('\\n')  for char in all_fruits  ]"
   ]
  },
  {
   "cell_type": "code",
   "execution_count": 26,
   "metadata": {},
   "outputs": [],
   "source": [
    "selected_fruits = [ i for i in all_fruits if i in my_fruits     ]"
   ]
  },
  {
   "cell_type": "code",
   "execution_count": 27,
   "metadata": {},
   "outputs": [
    {
     "data": {
      "text/plain": [
       "['Apple', 'Watermelon', 'Orange']"
      ]
     },
     "execution_count": 27,
     "metadata": {},
     "output_type": "execute_result"
    }
   ],
   "source": [
    "selected_fruits"
   ]
  },
  {
   "cell_type": "code",
   "execution_count": null,
   "metadata": {},
   "outputs": [],
   "source": []
  },
  {
   "cell_type": "code",
   "execution_count": null,
   "metadata": {},
   "outputs": [],
   "source": []
  },
  {
   "cell_type": "code",
   "execution_count": null,
   "metadata": {},
   "outputs": [],
   "source": []
  },
  {
   "cell_type": "code",
   "execution_count": null,
   "metadata": {},
   "outputs": [],
   "source": []
  },
  {
   "cell_type": "code",
   "execution_count": null,
   "metadata": {},
   "outputs": [],
   "source": []
  },
  {
   "cell_type": "markdown",
   "metadata": {},
   "source": [
    "#  <font color='blue'> 4. 유저한테 다음 문장을 입력받습니다. 유저의 문장에 콤마(,) 가 들어있으면, 이를 잘라서 names_out_file.txt 에 write 하는 프로그램을 작성하세요."
   ]
  },
  {
   "cell_type": "code",
   "execution_count": 36,
   "metadata": {},
   "outputs": [
    {
     "name": "stdout",
     "output_type": "stream",
     "text": [
      "Enter 5 names of your favourite friends separated by comma: 김길동, 정부미\n"
     ]
    }
   ],
   "source": [
    "sentence = input(\"Enter 5 names of your favourite friends separated by comma: \")\n",
    "\n",
    "sentence_list = sentence.split(',')\n",
    "with open(\"name_out_file.txt\", \"a\") as file:\n",
    "    for name in sentence_list:\n",
    "        file.write(name.strip()+'\\n')\n"
   ]
  },
  {
   "cell_type": "code",
   "execution_count": 38,
   "metadata": {},
   "outputs": [
    {
     "name": "stdout",
     "output_type": "stream",
     "text": [
      "abc\n",
      " 홍길동\n",
      " 가나나\n",
      " hello\n",
      " yes\n",
      "abc\n",
      " def\n",
      " 123\n",
      " hello\n",
      "abc\n",
      " def\n",
      "김길동\n",
      " 정부미\n",
      "\n"
     ]
    }
   ],
   "source": [
    "with open(\"name_out_file.txt\", \"r\") as file:\n",
    "    print(file.read())"
   ]
  },
  {
   "cell_type": "code",
   "execution_count": null,
   "metadata": {},
   "outputs": [],
   "source": []
  },
  {
   "cell_type": "code",
   "execution_count": null,
   "metadata": {},
   "outputs": [],
   "source": []
  },
  {
   "cell_type": "code",
   "execution_count": 34,
   "metadata": {},
   "outputs": [],
   "source": [
    "with open(\"name_out_file.txt\", \"r\") as file:\n",
    "    data = file.readlines()"
   ]
  },
  {
   "cell_type": "code",
   "execution_count": null,
   "metadata": {},
   "outputs": [],
   "source": []
  },
  {
   "cell_type": "markdown",
   "metadata": {},
   "source": [
    "# <font color='blue'> 5. \"S&P500_Stock_Data.csv\" 파일을 읽어서, (1) HEADING(즉, 맨 위의 데이터를 설명하는 컬럼 이름) 출력, (2) 그 아래 있는 실제 데이터를 맨처음 데이터부터 5개까지만 출력하세요. "
   ]
  },
  {
   "cell_type": "code",
   "execution_count": 39,
   "metadata": {},
   "outputs": [],
   "source": [
    "import csv\n",
    "with open(\"S&P500_Stock_Data.csv\", \"r\") as file:\n",
    "    read_data = csv.reader(file, delimiter=',')\n",
    "    stock_list = list(read_data)"
   ]
  },
  {
   "cell_type": "code",
   "execution_count": 43,
   "metadata": {},
   "outputs": [
    {
     "name": "stdout",
     "output_type": "stream",
     "text": [
      "['Interest Rates', 'Employment', 'S&P 500 Price']\n"
     ]
    }
   ],
   "source": [
    "print(stock_list[0])"
   ]
  },
  {
   "cell_type": "code",
   "execution_count": 44,
   "metadata": {},
   "outputs": [
    {
     "name": "stdout",
     "output_type": "stream",
     "text": [
      "[['1.943859273', '55.41357113', '2206.680582'], ['2.258228944', '59.54630512', '2486.474488'], ['2.215862783', '57.41468676', '2405.868337'], ['1.977959542', '49.90835272', '2140.434475'], ['2.437722808', '52.03549192', '2411.275663']]\n"
     ]
    }
   ],
   "source": [
    "print(stock_list[1:6])"
   ]
  },
  {
   "cell_type": "code",
   "execution_count": null,
   "metadata": {},
   "outputs": [],
   "source": []
  },
  {
   "cell_type": "markdown",
   "metadata": {},
   "source": [
    "# <font color='blue'> 6. 유저가 문장을 입력하고 엔터를 치면, recoding.txt 파일에 유저가 입력한 문장을 저장합니다. 단, 유저가 \"STOP\"이라는 문장을 입력할 때까지, 계속 유저의 입력을 받아서, 파일에 저장하는 프로그램을 작성하세요.  "
   ]
  },
  {
   "cell_type": "code",
   "execution_count": 46,
   "metadata": {},
   "outputs": [
    {
     "name": "stdout",
     "output_type": "stream",
     "text": [
      "문장입력 : hello\n",
      "문장입력 : this\n",
      "문장입력 : is\n",
      "문장입력 : STOP\n"
     ]
    }
   ],
   "source": [
    "while True:\n",
    "    sentence = input(\"문장입력 : \")\n",
    "    if sentence == 'STOP':\n",
    "        break\n",
    "    else :\n",
    "        with open(\"recoding.txt\", \"a\") as file:\n",
    "            file.write(sentence+'\\n')\n"
   ]
  },
  {
   "cell_type": "code",
   "execution_count": null,
   "metadata": {},
   "outputs": [],
   "source": []
  },
  {
   "cell_type": "code",
   "execution_count": null,
   "metadata": {},
   "outputs": [],
   "source": []
  },
  {
   "cell_type": "code",
   "execution_count": null,
   "metadata": {},
   "outputs": [],
   "source": []
  }
 ],
 "metadata": {
  "kernelspec": {
   "display_name": "Python 3",
   "language": "python",
   "name": "python3"
  },
  "language_info": {
   "codemirror_mode": {
    "name": "ipython",
    "version": 3
   },
   "file_extension": ".py",
   "mimetype": "text/x-python",
   "name": "python",
   "nbconvert_exporter": "python",
   "pygments_lexer": "ipython3",
   "version": "3.7.1"
  }
 },
 "nbformat": 4,
 "nbformat_minor": 2
}
