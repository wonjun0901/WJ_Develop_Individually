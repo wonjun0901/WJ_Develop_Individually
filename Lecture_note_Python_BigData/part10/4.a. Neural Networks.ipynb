{
 "cells": [
  {
   "cell_type": "markdown",
   "metadata": {},
   "source": [
    "# https://github.com/macro0630/python_edu"
   ]
  },
  {
   "cell_type": "markdown",
   "metadata": {},
   "source": [
    "# Neural Networks and Deep Learning"
   ]
  },
  {
   "cell_type": "markdown",
   "metadata": {},
   "source": [
    "### 아래 기초에 대해 먼저 학습합니다."
   ]
  },
  {
   "cell_type": "markdown",
   "metadata": {},
   "source": [
    "### https://drive.google.com/open?id=1TdlnkFU4Zukw2ajdxm7HE8BQts0pdoP_1RDc6XDKZmg"
   ]
  },
  {
   "cell_type": "code",
   "execution_count": null,
   "metadata": {
    "collapsed": true
   },
   "outputs": [],
   "source": []
  },
  {
   "cell_type": "code",
   "execution_count": null,
   "metadata": {
    "collapsed": true
   },
   "outputs": [],
   "source": []
  },
  {
   "cell_type": "markdown",
   "metadata": {},
   "source": [
    "## Keras 환경 구성 및 설치\n",
    "\n",
    "아나콘다 프롬프트에서 다음처럼 한다. 다 설치되면 주피터 노트북을 다시 실행한다.\n",
    "\n",
    "케라스는 파이썬 3.6에서 동작하므로, 콘다 가상환경을 만들어 준다.\n",
    "\n",
    "$ conda create --name ai python=3.6 tensorflow keras\n",
    "\n",
    "가상환경을 실행한다.\n",
    "\n",
    "$ conda activate ai\n",
    "\n",
    "머신러닝 관련 라이브러리 설치해 준다.\n",
    "\n",
    "$ conda install  numpy scipy matplotlib ipython scikit-learn pandas pillow jupyter\n",
    "\n"
   ]
  },
  {
   "cell_type": "code",
   "execution_count": null,
   "metadata": {},
   "outputs": [],
   "source": []
  },
  {
   "cell_type": "code",
   "execution_count": 1,
   "metadata": {},
   "outputs": [
    {
     "name": "stderr",
     "output_type": "stream",
     "text": [
      "Using TensorFlow backend.\n"
     ]
    }
   ],
   "source": [
    "import keras"
   ]
  },
  {
   "cell_type": "code",
   "execution_count": null,
   "metadata": {},
   "outputs": [],
   "source": []
  },
  {
   "cell_type": "code",
   "execution_count": 25,
   "metadata": {},
   "outputs": [],
   "source": [
    "# Importing the libraries\n",
    "import numpy as np\n",
    "import matplotlib.pyplot as plt\n",
    "import pandas as pd\n",
    "%matplotlib inline"
   ]
  },
  {
   "cell_type": "code",
   "execution_count": 26,
   "metadata": {},
   "outputs": [],
   "source": [
    "dataset = pd.read_csv('Churn_Modelling.csv')"
   ]
  },
  {
   "cell_type": "code",
   "execution_count": 27,
   "metadata": {},
   "outputs": [
    {
     "data": {
      "text/html": [
       "<div>\n",
       "<style scoped>\n",
       "    .dataframe tbody tr th:only-of-type {\n",
       "        vertical-align: middle;\n",
       "    }\n",
       "\n",
       "    .dataframe tbody tr th {\n",
       "        vertical-align: top;\n",
       "    }\n",
       "\n",
       "    .dataframe thead th {\n",
       "        text-align: right;\n",
       "    }\n",
       "</style>\n",
       "<table border=\"1\" class=\"dataframe\">\n",
       "  <thead>\n",
       "    <tr style=\"text-align: right;\">\n",
       "      <th></th>\n",
       "      <th>RowNumber</th>\n",
       "      <th>CustomerId</th>\n",
       "      <th>Surname</th>\n",
       "      <th>CreditScore</th>\n",
       "      <th>Geography</th>\n",
       "      <th>Gender</th>\n",
       "      <th>Age</th>\n",
       "      <th>Tenure</th>\n",
       "      <th>Balance</th>\n",
       "      <th>NumOfProducts</th>\n",
       "      <th>HasCrCard</th>\n",
       "      <th>IsActiveMember</th>\n",
       "      <th>EstimatedSalary</th>\n",
       "      <th>Exited</th>\n",
       "    </tr>\n",
       "  </thead>\n",
       "  <tbody>\n",
       "    <tr>\n",
       "      <td>0</td>\n",
       "      <td>1</td>\n",
       "      <td>15634602</td>\n",
       "      <td>Hargrave</td>\n",
       "      <td>619</td>\n",
       "      <td>France</td>\n",
       "      <td>Female</td>\n",
       "      <td>42</td>\n",
       "      <td>2</td>\n",
       "      <td>0.00</td>\n",
       "      <td>1</td>\n",
       "      <td>1</td>\n",
       "      <td>1</td>\n",
       "      <td>101348.88</td>\n",
       "      <td>1</td>\n",
       "    </tr>\n",
       "    <tr>\n",
       "      <td>1</td>\n",
       "      <td>2</td>\n",
       "      <td>15647311</td>\n",
       "      <td>Hill</td>\n",
       "      <td>608</td>\n",
       "      <td>Spain</td>\n",
       "      <td>Female</td>\n",
       "      <td>41</td>\n",
       "      <td>1</td>\n",
       "      <td>83807.86</td>\n",
       "      <td>1</td>\n",
       "      <td>0</td>\n",
       "      <td>1</td>\n",
       "      <td>112542.58</td>\n",
       "      <td>0</td>\n",
       "    </tr>\n",
       "    <tr>\n",
       "      <td>2</td>\n",
       "      <td>3</td>\n",
       "      <td>15619304</td>\n",
       "      <td>Onio</td>\n",
       "      <td>502</td>\n",
       "      <td>France</td>\n",
       "      <td>Female</td>\n",
       "      <td>42</td>\n",
       "      <td>8</td>\n",
       "      <td>159660.80</td>\n",
       "      <td>3</td>\n",
       "      <td>1</td>\n",
       "      <td>0</td>\n",
       "      <td>113931.57</td>\n",
       "      <td>1</td>\n",
       "    </tr>\n",
       "    <tr>\n",
       "      <td>3</td>\n",
       "      <td>4</td>\n",
       "      <td>15701354</td>\n",
       "      <td>Boni</td>\n",
       "      <td>699</td>\n",
       "      <td>France</td>\n",
       "      <td>Female</td>\n",
       "      <td>39</td>\n",
       "      <td>1</td>\n",
       "      <td>0.00</td>\n",
       "      <td>2</td>\n",
       "      <td>0</td>\n",
       "      <td>0</td>\n",
       "      <td>93826.63</td>\n",
       "      <td>0</td>\n",
       "    </tr>\n",
       "    <tr>\n",
       "      <td>4</td>\n",
       "      <td>5</td>\n",
       "      <td>15737888</td>\n",
       "      <td>Mitchell</td>\n",
       "      <td>850</td>\n",
       "      <td>Spain</td>\n",
       "      <td>Female</td>\n",
       "      <td>43</td>\n",
       "      <td>2</td>\n",
       "      <td>125510.82</td>\n",
       "      <td>1</td>\n",
       "      <td>1</td>\n",
       "      <td>1</td>\n",
       "      <td>79084.10</td>\n",
       "      <td>0</td>\n",
       "    </tr>\n",
       "  </tbody>\n",
       "</table>\n",
       "</div>"
      ],
      "text/plain": [
       "   RowNumber  CustomerId   Surname  CreditScore Geography  Gender  Age  \\\n",
       "0          1    15634602  Hargrave          619    France  Female   42   \n",
       "1          2    15647311      Hill          608     Spain  Female   41   \n",
       "2          3    15619304      Onio          502    France  Female   42   \n",
       "3          4    15701354      Boni          699    France  Female   39   \n",
       "4          5    15737888  Mitchell          850     Spain  Female   43   \n",
       "\n",
       "   Tenure    Balance  NumOfProducts  HasCrCard  IsActiveMember  \\\n",
       "0       2       0.00              1          1               1   \n",
       "1       1   83807.86              1          0               1   \n",
       "2       8  159660.80              3          1               0   \n",
       "3       1       0.00              2          0               0   \n",
       "4       2  125510.82              1          1               1   \n",
       "\n",
       "   EstimatedSalary  Exited  \n",
       "0        101348.88       1  \n",
       "1        112542.58       0  \n",
       "2        113931.57       1  \n",
       "3         93826.63       0  \n",
       "4         79084.10       0  "
      ]
     },
     "execution_count": 27,
     "metadata": {},
     "output_type": "execute_result"
    }
   ],
   "source": [
    "dataset.head()"
   ]
  },
  {
   "cell_type": "code",
   "execution_count": 28,
   "metadata": {},
   "outputs": [
    {
     "data": {
      "text/plain": [
       "RowNumber          0\n",
       "CustomerId         0\n",
       "Surname            0\n",
       "CreditScore        0\n",
       "Geography          0\n",
       "Gender             0\n",
       "Age                0\n",
       "Tenure             0\n",
       "Balance            0\n",
       "NumOfProducts      0\n",
       "HasCrCard          0\n",
       "IsActiveMember     0\n",
       "EstimatedSalary    0\n",
       "Exited             0\n",
       "dtype: int64"
      ]
     },
     "execution_count": 28,
     "metadata": {},
     "output_type": "execute_result"
    }
   ],
   "source": [
    "dataset.isnull().sum()"
   ]
  },
  {
   "cell_type": "code",
   "execution_count": 29,
   "metadata": {},
   "outputs": [],
   "source": [
    "X = dataset.iloc[ : , 3: -1].values"
   ]
  },
  {
   "cell_type": "code",
   "execution_count": 30,
   "metadata": {},
   "outputs": [
    {
     "data": {
      "text/plain": [
       "array([[619, 'France', 'Female', ..., 1, 1, 101348.88],\n",
       "       [608, 'Spain', 'Female', ..., 0, 1, 112542.58],\n",
       "       [502, 'France', 'Female', ..., 1, 0, 113931.57],\n",
       "       ...,\n",
       "       [709, 'France', 'Female', ..., 0, 1, 42085.58],\n",
       "       [772, 'Germany', 'Male', ..., 1, 0, 92888.52],\n",
       "       [792, 'France', 'Female', ..., 1, 0, 38190.78]], dtype=object)"
      ]
     },
     "execution_count": 30,
     "metadata": {},
     "output_type": "execute_result"
    }
   ],
   "source": [
    "X"
   ]
  },
  {
   "cell_type": "code",
   "execution_count": 31,
   "metadata": {},
   "outputs": [],
   "source": [
    "y = dataset.iloc[: , -1].values"
   ]
  },
  {
   "cell_type": "code",
   "execution_count": 32,
   "metadata": {},
   "outputs": [
    {
     "data": {
      "text/plain": [
       "array([1, 0, 1, ..., 1, 1, 0], dtype=int64)"
      ]
     },
     "execution_count": 32,
     "metadata": {},
     "output_type": "execute_result"
    }
   ],
   "source": [
    "y"
   ]
  },
  {
   "cell_type": "code",
   "execution_count": 33,
   "metadata": {},
   "outputs": [
    {
     "data": {
      "text/plain": [
       "(10000, 10)"
      ]
     },
     "execution_count": 33,
     "metadata": {},
     "output_type": "execute_result"
    }
   ],
   "source": [
    "X.shape"
   ]
  },
  {
   "cell_type": "code",
   "execution_count": 34,
   "metadata": {},
   "outputs": [
    {
     "data": {
      "text/plain": [
       "(10000,)"
      ]
     },
     "execution_count": 34,
     "metadata": {},
     "output_type": "execute_result"
    }
   ],
   "source": [
    "y.shape"
   ]
  },
  {
   "cell_type": "code",
   "execution_count": 35,
   "metadata": {},
   "outputs": [
    {
     "data": {
      "text/plain": [
       "array([[619, 'France', 'Female', ..., 1, 1, 101348.88],\n",
       "       [608, 'Spain', 'Female', ..., 0, 1, 112542.58],\n",
       "       [502, 'France', 'Female', ..., 1, 0, 113931.57],\n",
       "       ...,\n",
       "       [709, 'France', 'Female', ..., 0, 1, 42085.58],\n",
       "       [772, 'Germany', 'Male', ..., 1, 0, 92888.52],\n",
       "       [792, 'France', 'Female', ..., 1, 0, 38190.78]], dtype=object)"
      ]
     },
     "execution_count": 35,
     "metadata": {},
     "output_type": "execute_result"
    }
   ],
   "source": [
    "X"
   ]
  },
  {
   "cell_type": "code",
   "execution_count": 36,
   "metadata": {},
   "outputs": [],
   "source": [
    "from sklearn.preprocessing import LabelEncoder, OneHotEncoder"
   ]
  },
  {
   "cell_type": "code",
   "execution_count": 37,
   "metadata": {},
   "outputs": [],
   "source": [
    "label_e_1 = LabelEncoder()"
   ]
  },
  {
   "cell_type": "code",
   "execution_count": 38,
   "metadata": {},
   "outputs": [],
   "source": [
    "X[:, 1] = label_e_1.fit_transform(X[:, 1])"
   ]
  },
  {
   "cell_type": "code",
   "execution_count": 39,
   "metadata": {},
   "outputs": [],
   "source": [
    "label_e_2 = LabelEncoder()"
   ]
  },
  {
   "cell_type": "code",
   "execution_count": 40,
   "metadata": {},
   "outputs": [],
   "source": [
    "X[:, 2] = label_e_2.fit_transform(X[:,2])"
   ]
  },
  {
   "cell_type": "code",
   "execution_count": 41,
   "metadata": {},
   "outputs": [
    {
     "data": {
      "text/plain": [
       "array([[619, 0, 0, ..., 1, 1, 101348.88],\n",
       "       [608, 2, 0, ..., 0, 1, 112542.58],\n",
       "       [502, 0, 0, ..., 1, 0, 113931.57],\n",
       "       ...,\n",
       "       [709, 0, 0, ..., 0, 1, 42085.58],\n",
       "       [772, 1, 1, ..., 1, 0, 92888.52],\n",
       "       [792, 0, 0, ..., 1, 0, 38190.78]], dtype=object)"
      ]
     },
     "execution_count": 41,
     "metadata": {},
     "output_type": "execute_result"
    }
   ],
   "source": [
    "X"
   ]
  },
  {
   "cell_type": "code",
   "execution_count": 42,
   "metadata": {},
   "outputs": [],
   "source": [
    "from sklearn.compose import ColumnTransformer"
   ]
  },
  {
   "cell_type": "code",
   "execution_count": 43,
   "metadata": {},
   "outputs": [],
   "source": [
    "ct = ColumnTransformer(\n",
    "        [('one_hot_encode' , OneHotEncoder(categories='auto'), [ 1 ]   ) ],\n",
    "        remainder='passthrough'\n",
    ")"
   ]
  },
  {
   "cell_type": "code",
   "execution_count": 44,
   "metadata": {},
   "outputs": [],
   "source": [
    "X = np.array(ct.fit_transform(X), dtype = np.float)"
   ]
  },
  {
   "cell_type": "code",
   "execution_count": 47,
   "metadata": {},
   "outputs": [
    {
     "data": {
      "text/plain": [
       "array([[1.0000000e+00, 0.0000000e+00, 0.0000000e+00, ..., 1.0000000e+00,\n",
       "        1.0000000e+00, 1.0134888e+05],\n",
       "       [0.0000000e+00, 0.0000000e+00, 1.0000000e+00, ..., 0.0000000e+00,\n",
       "        1.0000000e+00, 1.1254258e+05],\n",
       "       [1.0000000e+00, 0.0000000e+00, 0.0000000e+00, ..., 1.0000000e+00,\n",
       "        0.0000000e+00, 1.1393157e+05],\n",
       "       ...,\n",
       "       [1.0000000e+00, 0.0000000e+00, 0.0000000e+00, ..., 0.0000000e+00,\n",
       "        1.0000000e+00, 4.2085580e+04],\n",
       "       [0.0000000e+00, 1.0000000e+00, 0.0000000e+00, ..., 1.0000000e+00,\n",
       "        0.0000000e+00, 9.2888520e+04],\n",
       "       [1.0000000e+00, 0.0000000e+00, 0.0000000e+00, ..., 1.0000000e+00,\n",
       "        0.0000000e+00, 3.8190780e+04]])"
      ]
     },
     "execution_count": 47,
     "metadata": {},
     "output_type": "execute_result"
    }
   ],
   "source": [
    "X"
   ]
  },
  {
   "cell_type": "code",
   "execution_count": 48,
   "metadata": {},
   "outputs": [
    {
     "data": {
      "text/plain": [
       "(10000, 12)"
      ]
     },
     "execution_count": 48,
     "metadata": {},
     "output_type": "execute_result"
    }
   ],
   "source": [
    "X.shape"
   ]
  },
  {
   "cell_type": "code",
   "execution_count": 49,
   "metadata": {},
   "outputs": [],
   "source": [
    "from sklearn.model_selection import train_test_split"
   ]
  },
  {
   "cell_type": "code",
   "execution_count": 50,
   "metadata": {},
   "outputs": [],
   "source": [
    "X_train, X_test, y_train, y_test = train_test_split(X, y, test_size=0.2, \n",
    "                                                   random_state = 3)"
   ]
  },
  {
   "cell_type": "code",
   "execution_count": 51,
   "metadata": {},
   "outputs": [],
   "source": [
    "from sklearn.preprocessing import StandardScaler"
   ]
  },
  {
   "cell_type": "code",
   "execution_count": 52,
   "metadata": {},
   "outputs": [],
   "source": [
    "sc = StandardScaler()"
   ]
  },
  {
   "cell_type": "code",
   "execution_count": 53,
   "metadata": {},
   "outputs": [],
   "source": [
    "X_train = sc.fit_transform(X_train)\n",
    "X_test = sc.transform(X_test)"
   ]
  },
  {
   "cell_type": "code",
   "execution_count": 54,
   "metadata": {},
   "outputs": [
    {
     "data": {
      "text/plain": [
       "(8000,)"
      ]
     },
     "execution_count": 54,
     "metadata": {},
     "output_type": "execute_result"
    }
   ],
   "source": [
    "y_train.shape"
   ]
  },
  {
   "cell_type": "code",
   "execution_count": 56,
   "metadata": {},
   "outputs": [],
   "source": [
    "y_train = y_train.reshape(y_train.shape[0], 1)"
   ]
  },
  {
   "cell_type": "code",
   "execution_count": 57,
   "metadata": {},
   "outputs": [
    {
     "data": {
      "text/plain": [
       "(8000, 1)"
      ]
     },
     "execution_count": 57,
     "metadata": {},
     "output_type": "execute_result"
    }
   ],
   "source": [
    "y_train.shape"
   ]
  },
  {
   "cell_type": "code",
   "execution_count": 58,
   "metadata": {},
   "outputs": [],
   "source": [
    "y_test = y_test.reshape(y_test.shape[0], 1)"
   ]
  },
  {
   "cell_type": "code",
   "execution_count": 59,
   "metadata": {},
   "outputs": [
    {
     "data": {
      "text/plain": [
       "(2000, 1)"
      ]
     },
     "execution_count": 59,
     "metadata": {},
     "output_type": "execute_result"
    }
   ],
   "source": [
    "y_test.shape"
   ]
  },
  {
   "cell_type": "code",
   "execution_count": null,
   "metadata": {},
   "outputs": [],
   "source": []
  },
  {
   "cell_type": "code",
   "execution_count": 60,
   "metadata": {},
   "outputs": [],
   "source": [
    "from keras.models import Sequential"
   ]
  },
  {
   "cell_type": "code",
   "execution_count": 61,
   "metadata": {},
   "outputs": [],
   "source": [
    "from keras.layers import Dense"
   ]
  },
  {
   "cell_type": "code",
   "execution_count": 62,
   "metadata": {},
   "outputs": [
    {
     "name": "stderr",
     "output_type": "stream",
     "text": [
      "WARNING: Logging before flag parsing goes to stderr.\n",
      "W0908 15:22:00.340288  7012 deprecation_wrapper.py:119] From E:\\Anaconda3\\envs\\ai\\lib\\site-packages\\keras\\backend\\tensorflow_backend.py:74: The name tf.get_default_graph is deprecated. Please use tf.compat.v1.get_default_graph instead.\n",
      "\n"
     ]
    }
   ],
   "source": [
    "classifier = Sequential()"
   ]
  },
  {
   "cell_type": "code",
   "execution_count": 63,
   "metadata": {},
   "outputs": [
    {
     "name": "stderr",
     "output_type": "stream",
     "text": [
      "E:\\Anaconda3\\envs\\ai\\lib\\site-packages\\ipykernel_launcher.py:2: UserWarning: Update your `Dense` call to the Keras 2 API: `Dense(activation=\"relu\", input_dim=12, units=6, kernel_initializer=\"uniform\")`\n",
      "  \n",
      "W0908 15:24:47.945996  7012 deprecation_wrapper.py:119] From E:\\Anaconda3\\envs\\ai\\lib\\site-packages\\keras\\backend\\tensorflow_backend.py:517: The name tf.placeholder is deprecated. Please use tf.compat.v1.placeholder instead.\n",
      "\n",
      "W0908 15:24:47.981197  7012 deprecation_wrapper.py:119] From E:\\Anaconda3\\envs\\ai\\lib\\site-packages\\keras\\backend\\tensorflow_backend.py:4138: The name tf.random_uniform is deprecated. Please use tf.random.uniform instead.\n",
      "\n"
     ]
    }
   ],
   "source": [
    "classifier.add(  Dense(output_dim = 6, init='uniform', \n",
    "                      activation = 'relu', input_dim = 12) )"
   ]
  },
  {
   "cell_type": "code",
   "execution_count": 64,
   "metadata": {},
   "outputs": [
    {
     "name": "stderr",
     "output_type": "stream",
     "text": [
      "E:\\Anaconda3\\envs\\ai\\lib\\site-packages\\ipykernel_launcher.py:1: UserWarning: Update your `Dense` call to the Keras 2 API: `Dense(activation=\"relu\", units=8, kernel_initializer=\"uniform\")`\n",
      "  \"\"\"Entry point for launching an IPython kernel.\n"
     ]
    }
   ],
   "source": [
    "classifier.add( Dense(output_dim = 8, init = 'uniform', activation='relu') )"
   ]
  },
  {
   "cell_type": "code",
   "execution_count": 65,
   "metadata": {},
   "outputs": [
    {
     "name": "stderr",
     "output_type": "stream",
     "text": [
      "E:\\Anaconda3\\envs\\ai\\lib\\site-packages\\ipykernel_launcher.py:1: UserWarning: Update your `Dense` call to the Keras 2 API: `Dense(activation=\"sigmoid\", units=1, kernel_initializer=\"uniform\")`\n",
      "  \"\"\"Entry point for launching an IPython kernel.\n"
     ]
    }
   ],
   "source": [
    "classifier.add( Dense(output_dim = 1, init=\"uniform\", activation='sigmoid'))"
   ]
  },
  {
   "cell_type": "code",
   "execution_count": 66,
   "metadata": {},
   "outputs": [
    {
     "name": "stderr",
     "output_type": "stream",
     "text": [
      "W0908 15:32:13.175526  7012 deprecation_wrapper.py:119] From E:\\Anaconda3\\envs\\ai\\lib\\site-packages\\keras\\optimizers.py:790: The name tf.train.Optimizer is deprecated. Please use tf.compat.v1.train.Optimizer instead.\n",
      "\n",
      "W0908 15:32:13.221127  7012 deprecation_wrapper.py:119] From E:\\Anaconda3\\envs\\ai\\lib\\site-packages\\keras\\backend\\tensorflow_backend.py:3376: The name tf.log is deprecated. Please use tf.math.log instead.\n",
      "\n",
      "W0908 15:32:13.228128  7012 deprecation.py:323] From E:\\Anaconda3\\envs\\ai\\lib\\site-packages\\tensorflow\\python\\ops\\nn_impl.py:180: add_dispatch_support.<locals>.wrapper (from tensorflow.python.ops.array_ops) is deprecated and will be removed in a future version.\n",
      "Instructions for updating:\n",
      "Use tf.where in 2.0, which has the same broadcast rule as np.where\n"
     ]
    }
   ],
   "source": [
    "classifier.compile(optimizer='adam', loss='binary_crossentropy', \n",
    "                   metrics=['accuracy'])"
   ]
  },
  {
   "cell_type": "code",
   "execution_count": 67,
   "metadata": {},
   "outputs": [
    {
     "name": "stderr",
     "output_type": "stream",
     "text": [
      "E:\\Anaconda3\\envs\\ai\\lib\\site-packages\\ipykernel_launcher.py:1: UserWarning: The `nb_epoch` argument in `fit` has been renamed `epochs`.\n",
      "  \"\"\"Entry point for launching an IPython kernel.\n",
      "W0908 15:33:27.063892  7012 deprecation_wrapper.py:119] From E:\\Anaconda3\\envs\\ai\\lib\\site-packages\\keras\\backend\\tensorflow_backend.py:986: The name tf.assign_add is deprecated. Please use tf.compat.v1.assign_add instead.\n",
      "\n"
     ]
    },
    {
     "name": "stdout",
     "output_type": "stream",
     "text": [
      "Epoch 1/100\n",
      "8000/8000 [==============================] - 1s 148us/step - loss: 0.4769 - acc: 0.7947\n",
      "Epoch 2/100\n",
      "8000/8000 [==============================] - 1s 87us/step - loss: 0.4283 - acc: 0.7947\n",
      "Epoch 3/100\n",
      "8000/8000 [==============================] - 1s 89us/step - loss: 0.4207 - acc: 0.8051\n",
      "Epoch 4/100\n",
      "8000/8000 [==============================] - 1s 94us/step - loss: 0.4167 - acc: 0.8262\n",
      "Epoch 5/100\n",
      "8000/8000 [==============================] - 1s 87us/step - loss: 0.4141 - acc: 0.8282\n",
      "Epoch 6/100\n",
      "8000/8000 [==============================] - 1s 87us/step - loss: 0.4122 - acc: 0.8299\n",
      "Epoch 7/100\n",
      "8000/8000 [==============================] - 1s 86us/step - loss: 0.4106 - acc: 0.8289\n",
      "Epoch 8/100\n",
      "8000/8000 [==============================] - 1s 87us/step - loss: 0.4099 - acc: 0.8315\n",
      "Epoch 9/100\n",
      "8000/8000 [==============================] - 1s 90us/step - loss: 0.4087 - acc: 0.8330\n",
      "Epoch 10/100\n",
      "8000/8000 [==============================] - 1s 88us/step - loss: 0.4079 - acc: 0.8321\n",
      "Epoch 11/100\n",
      "8000/8000 [==============================] - 1s 88us/step - loss: 0.4070 - acc: 0.8324\n",
      "Epoch 12/100\n",
      "8000/8000 [==============================] - 1s 88us/step - loss: 0.4061 - acc: 0.8331\n",
      "Epoch 13/100\n",
      "8000/8000 [==============================] - 1s 90us/step - loss: 0.4059 - acc: 0.8335\n",
      "Epoch 14/100\n",
      "8000/8000 [==============================] - 1s 89us/step - loss: 0.4053 - acc: 0.8324\n",
      "Epoch 15/100\n",
      "8000/8000 [==============================] - 1s 88us/step - loss: 0.4048 - acc: 0.8340\n",
      "Epoch 16/100\n",
      "8000/8000 [==============================] - 1s 91us/step - loss: 0.4041 - acc: 0.8345\n",
      "Epoch 17/100\n",
      "8000/8000 [==============================] - 1s 91us/step - loss: 0.4031 - acc: 0.8321\n",
      "Epoch 18/100\n",
      "8000/8000 [==============================] - 1s 89us/step - loss: 0.4033 - acc: 0.8374\n",
      "Epoch 19/100\n",
      "8000/8000 [==============================] - 1s 86us/step - loss: 0.4035 - acc: 0.8340\n",
      "Epoch 20/100\n",
      "8000/8000 [==============================] - 1s 90us/step - loss: 0.4024 - acc: 0.8340\n",
      "Epoch 21/100\n",
      "8000/8000 [==============================] - 1s 88us/step - loss: 0.4027 - acc: 0.8341\n",
      "Epoch 22/100\n",
      "8000/8000 [==============================] - 1s 86us/step - loss: 0.4020 - acc: 0.8334\n",
      "Epoch 23/100\n",
      "8000/8000 [==============================] - 1s 87us/step - loss: 0.4020 - acc: 0.8324\n",
      "Epoch 24/100\n",
      "8000/8000 [==============================] - 1s 86us/step - loss: 0.4020 - acc: 0.8339\n",
      "Epoch 25/100\n",
      "8000/8000 [==============================] - 1s 94us/step - loss: 0.4013 - acc: 0.8330\n",
      "Epoch 26/100\n",
      "8000/8000 [==============================] - 1s 88us/step - loss: 0.4007 - acc: 0.8335\n",
      "Epoch 27/100\n",
      "8000/8000 [==============================] - 1s 87us/step - loss: 0.4006 - acc: 0.8342\n",
      "Epoch 28/100\n",
      "8000/8000 [==============================] - 1s 91us/step - loss: 0.4010 - acc: 0.8345\n",
      "Epoch 29/100\n",
      "8000/8000 [==============================] - 1s 87us/step - loss: 0.4007 - acc: 0.8330\n",
      "Epoch 30/100\n",
      "8000/8000 [==============================] - 1s 91us/step - loss: 0.4005 - acc: 0.8349\n",
      "Epoch 31/100\n",
      "8000/8000 [==============================] - 1s 88us/step - loss: 0.4000 - acc: 0.8345\n",
      "Epoch 32/100\n",
      "8000/8000 [==============================] - 1s 87us/step - loss: 0.4002 - acc: 0.8341\n",
      "Epoch 33/100\n",
      "8000/8000 [==============================] - 1s 87us/step - loss: 0.3997 - acc: 0.8334\n",
      "Epoch 34/100\n",
      "8000/8000 [==============================] - 1s 88us/step - loss: 0.3994 - acc: 0.8339\n",
      "Epoch 35/100\n",
      "8000/8000 [==============================] - 1s 87us/step - loss: 0.3992 - acc: 0.8330\n",
      "Epoch 36/100\n",
      "8000/8000 [==============================] - 1s 88us/step - loss: 0.3986 - acc: 0.8347\n",
      "Epoch 37/100\n",
      "8000/8000 [==============================] - 1s 87us/step - loss: 0.3982 - acc: 0.8347\n",
      "Epoch 38/100\n",
      "8000/8000 [==============================] - 1s 94us/step - loss: 0.3977 - acc: 0.8346\n",
      "Epoch 39/100\n",
      "8000/8000 [==============================] - 1s 87us/step - loss: 0.3974 - acc: 0.8346\n",
      "Epoch 40/100\n",
      "8000/8000 [==============================] - 1s 89us/step - loss: 0.3977 - acc: 0.8339\n",
      "Epoch 41/100\n",
      "8000/8000 [==============================] - 1s 96us/step - loss: 0.3975 - acc: 0.8354\n",
      "Epoch 42/100\n",
      "8000/8000 [==============================] - 1s 92us/step - loss: 0.3968 - acc: 0.8355\n",
      "Epoch 43/100\n",
      "8000/8000 [==============================] - 1s 93us/step - loss: 0.3969 - acc: 0.8347\n",
      "Epoch 44/100\n",
      "8000/8000 [==============================] - 1s 94us/step - loss: 0.3969 - acc: 0.8356\n",
      "Epoch 45/100\n",
      "8000/8000 [==============================] - 1s 91us/step - loss: 0.3968 - acc: 0.8369\n",
      "Epoch 46/100\n",
      "8000/8000 [==============================] - 1s 92us/step - loss: 0.3958 - acc: 0.8342\n",
      "Epoch 47/100\n",
      "8000/8000 [==============================] - 1s 93us/step - loss: 0.3964 - acc: 0.8360\n",
      "Epoch 48/100\n",
      "8000/8000 [==============================] - 1s 88us/step - loss: 0.3964 - acc: 0.8359\n",
      "Epoch 49/100\n",
      "8000/8000 [==============================] - 1s 93us/step - loss: 0.3958 - acc: 0.8355\n",
      "Epoch 50/100\n",
      "8000/8000 [==============================] - 1s 89us/step - loss: 0.3961 - acc: 0.8369\n",
      "Epoch 51/100\n",
      "8000/8000 [==============================] - 1s 90us/step - loss: 0.3956 - acc: 0.8355\n",
      "Epoch 52/100\n",
      "8000/8000 [==============================] - 1s 89us/step - loss: 0.3961 - acc: 0.8366\n",
      "Epoch 53/100\n",
      "8000/8000 [==============================] - 1s 90us/step - loss: 0.3953 - acc: 0.8376\n",
      "Epoch 54/100\n",
      "8000/8000 [==============================] - 1s 87us/step - loss: 0.3957 - acc: 0.8352\n",
      "Epoch 55/100\n",
      "8000/8000 [==============================] - 1s 90us/step - loss: 0.3954 - acc: 0.8357\n",
      "Epoch 56/100\n",
      "8000/8000 [==============================] - 1s 93us/step - loss: 0.3954 - acc: 0.8381\n",
      "Epoch 57/100\n",
      "8000/8000 [==============================] - 1s 92us/step - loss: 0.3954 - acc: 0.8361\n",
      "Epoch 58/100\n",
      "8000/8000 [==============================] - 1s 92us/step - loss: 0.3955 - acc: 0.8374\n",
      "Epoch 59/100\n",
      "8000/8000 [==============================] - 1s 89us/step - loss: 0.3954 - acc: 0.8371\n",
      "Epoch 60/100\n",
      "8000/8000 [==============================] - 1s 92us/step - loss: 0.3947 - acc: 0.8350\n",
      "Epoch 61/100\n",
      "8000/8000 [==============================] - 1s 93us/step - loss: 0.3955 - acc: 0.8364\n",
      "Epoch 62/100\n",
      "8000/8000 [==============================] - 1s 92us/step - loss: 0.3951 - acc: 0.8360\n",
      "Epoch 63/100\n",
      "8000/8000 [==============================] - 1s 95us/step - loss: 0.3954 - acc: 0.8379\n",
      "Epoch 64/100\n",
      "8000/8000 [==============================] - 1s 88us/step - loss: 0.3949 - acc: 0.8369\n",
      "Epoch 65/100\n",
      "8000/8000 [==============================] - 1s 89us/step - loss: 0.3952 - acc: 0.8362\n",
      "Epoch 66/100\n",
      "8000/8000 [==============================] - 1s 90us/step - loss: 0.3950 - acc: 0.8354\n",
      "Epoch 67/100\n",
      "8000/8000 [==============================] - 1s 91us/step - loss: 0.3950 - acc: 0.8382\n",
      "Epoch 68/100\n",
      "8000/8000 [==============================] - 1s 91us/step - loss: 0.3948 - acc: 0.8369\n",
      "Epoch 69/100\n",
      "8000/8000 [==============================] - 1s 89us/step - loss: 0.3949 - acc: 0.8346\n",
      "Epoch 70/100\n",
      "8000/8000 [==============================] - 1s 89us/step - loss: 0.3947 - acc: 0.8364\n",
      "Epoch 71/100\n",
      "8000/8000 [==============================] - 1s 90us/step - loss: 0.3947 - acc: 0.8402\n",
      "Epoch 72/100\n",
      "8000/8000 [==============================] - 1s 91us/step - loss: 0.3947 - acc: 0.8380\n",
      "Epoch 73/100\n",
      "8000/8000 [==============================] - 1s 91us/step - loss: 0.3953 - acc: 0.8381\n",
      "Epoch 74/100\n",
      "8000/8000 [==============================] - 1s 95us/step - loss: 0.3942 - acc: 0.8390\n",
      "Epoch 75/100\n",
      "8000/8000 [==============================] - 1s 89us/step - loss: 0.3942 - acc: 0.8359\n",
      "Epoch 76/100\n",
      "8000/8000 [==============================] - 1s 92us/step - loss: 0.3938 - acc: 0.8370\n",
      "Epoch 77/100\n",
      "8000/8000 [==============================] - 1s 94us/step - loss: 0.3943 - acc: 0.8370\n",
      "Epoch 78/100\n",
      "8000/8000 [==============================] - 1s 90us/step - loss: 0.3937 - acc: 0.8374\n",
      "Epoch 79/100\n",
      "8000/8000 [==============================] - 1s 92us/step - loss: 0.3946 - acc: 0.8369\n",
      "Epoch 80/100\n",
      "8000/8000 [==============================] - 1s 91us/step - loss: 0.3944 - acc: 0.8377\n",
      "Epoch 81/100\n",
      "8000/8000 [==============================] - 1s 91us/step - loss: 0.3939 - acc: 0.8361\n",
      "Epoch 82/100\n",
      "8000/8000 [==============================] - 1s 91us/step - loss: 0.3946 - acc: 0.8379\n",
      "Epoch 83/100\n"
     ]
    },
    {
     "name": "stdout",
     "output_type": "stream",
     "text": [
      "8000/8000 [==============================] - 1s 90us/step - loss: 0.3943 - acc: 0.8384\n",
      "Epoch 84/100\n",
      "8000/8000 [==============================] - 1s 87us/step - loss: 0.3943 - acc: 0.8370\n",
      "Epoch 85/100\n",
      "8000/8000 [==============================] - 1s 86us/step - loss: 0.3932 - acc: 0.8366\n",
      "Epoch 86/100\n",
      "8000/8000 [==============================] - 1s 88us/step - loss: 0.3942 - acc: 0.8371\n",
      "Epoch 87/100\n",
      "8000/8000 [==============================] - 1s 88us/step - loss: 0.3936 - acc: 0.8375\n",
      "Epoch 88/100\n",
      "8000/8000 [==============================] - 1s 87us/step - loss: 0.3938 - acc: 0.8379\n",
      "Epoch 89/100\n",
      "8000/8000 [==============================] - 1s 90us/step - loss: 0.3934 - acc: 0.8374\n",
      "Epoch 90/100\n",
      "8000/8000 [==============================] - 1s 86us/step - loss: 0.3937 - acc: 0.8377\n",
      "Epoch 91/100\n",
      "8000/8000 [==============================] - 1s 88us/step - loss: 0.3939 - acc: 0.8354\n",
      "Epoch 92/100\n",
      "8000/8000 [==============================] - 1s 91us/step - loss: 0.3934 - acc: 0.8369\n",
      "Epoch 93/100\n",
      "8000/8000 [==============================] - 1s 88us/step - loss: 0.3939 - acc: 0.8381\n",
      "Epoch 94/100\n",
      "8000/8000 [==============================] - 1s 87us/step - loss: 0.3934 - acc: 0.8385\n",
      "Epoch 95/100\n",
      "8000/8000 [==============================] - 1s 86us/step - loss: 0.3938 - acc: 0.8379\n",
      "Epoch 96/100\n",
      "8000/8000 [==============================] - 1s 88us/step - loss: 0.3928 - acc: 0.8389\n",
      "Epoch 97/100\n",
      "8000/8000 [==============================] - 1s 87us/step - loss: 0.3937 - acc: 0.8395\n",
      "Epoch 98/100\n",
      "8000/8000 [==============================] - 1s 86us/step - loss: 0.3929 - acc: 0.8380\n",
      "Epoch 99/100\n",
      "8000/8000 [==============================] - 1s 90us/step - loss: 0.3937 - acc: 0.8372\n",
      "Epoch 100/100\n",
      "8000/8000 [==============================] - 1s 89us/step - loss: 0.3933 - acc: 0.8377\n"
     ]
    },
    {
     "data": {
      "text/plain": [
       "<keras.callbacks.History at 0x16004160>"
      ]
     },
     "execution_count": 67,
     "metadata": {},
     "output_type": "execute_result"
    }
   ],
   "source": [
    "classifier.fit(X_train, y_train, batch_size = 10, nb_epoch = 100)"
   ]
  },
  {
   "cell_type": "code",
   "execution_count": 68,
   "metadata": {},
   "outputs": [],
   "source": [
    "y_pred = classifier.predict(X_test)"
   ]
  },
  {
   "cell_type": "code",
   "execution_count": 70,
   "metadata": {},
   "outputs": [],
   "source": [
    "y_pred = (y_pred > 0.5)"
   ]
  },
  {
   "cell_type": "code",
   "execution_count": 71,
   "metadata": {},
   "outputs": [],
   "source": [
    "from sklearn.metrics import confusion_matrix"
   ]
  },
  {
   "cell_type": "code",
   "execution_count": 72,
   "metadata": {},
   "outputs": [],
   "source": [
    "cm = confusion_matrix(y_test, y_pred)"
   ]
  },
  {
   "cell_type": "code",
   "execution_count": 73,
   "metadata": {},
   "outputs": [
    {
     "data": {
      "text/plain": [
       "array([[1531,   74],\n",
       "       [ 240,  155]], dtype=int64)"
      ]
     },
     "execution_count": 73,
     "metadata": {},
     "output_type": "execute_result"
    }
   ],
   "source": [
    "cm"
   ]
  },
  {
   "cell_type": "code",
   "execution_count": 74,
   "metadata": {},
   "outputs": [
    {
     "name": "stdout",
     "output_type": "stream",
     "text": [
      "2000/2000 [==============================] - 0s 51us/step\n"
     ]
    }
   ],
   "source": [
    "score = classifier.evaluate(X_test, y_test)"
   ]
  },
  {
   "cell_type": "code",
   "execution_count": 75,
   "metadata": {},
   "outputs": [
    {
     "name": "stdout",
     "output_type": "stream",
     "text": [
      "loss :  0.40117615580558774\n",
      "accuracy :  0.843\n"
     ]
    }
   ],
   "source": [
    "print('loss : ', score[0])\n",
    "print('accuracy : ', score[1])"
   ]
  },
  {
   "cell_type": "code",
   "execution_count": null,
   "metadata": {},
   "outputs": [],
   "source": []
  }
 ],
 "metadata": {
  "kernelspec": {
   "display_name": "Python 3",
   "language": "python",
   "name": "python3"
  },
  "language_info": {
   "codemirror_mode": {
    "name": "ipython",
    "version": 3
   },
   "file_extension": ".py",
   "mimetype": "text/x-python",
   "name": "python",
   "nbconvert_exporter": "python",
   "pygments_lexer": "ipython3",
   "version": "3.6.9"
  }
 },
 "nbformat": 4,
 "nbformat_minor": 2
}
